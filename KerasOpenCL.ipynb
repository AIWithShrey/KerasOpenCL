{
 "cells": [
  {
   "cell_type": "markdown",
   "metadata": {},
   "source": [
    "Changing the Keras backend from TensorFlow to PlaidML"
   ]
  },
  {
   "cell_type": "code",
   "execution_count": 2,
   "metadata": {},
   "outputs": [],
   "source": [
    "import os\n",
    "\n",
    "os.environ[\"RUNFILES_DIR\"] = \"/Users/shreyasm/opt/anaconda3/share/plaidml\"\n",
    "os.environ[\"PLAIDML_NATIVE_PATH\"] = \"/Users/shreyasm/opt/anaconda3/lib/libplaidml.dylib\"\n",
    "os.environ[\"KERAS_BACKEND\"] = \"plaidml.keras.backend\""
   ]
  },
  {
   "cell_type": "markdown",
   "metadata": {},
   "source": [
    "Importing libraries (Remember to import Keras using \"import keras\" and not \"import tensorflow.keras\")"
   ]
  },
  {
   "cell_type": "code",
   "execution_count": 123,
   "metadata": {},
   "outputs": [],
   "source": [
    "import keras\n",
    "from keras.datasets import mnist\n",
    "from keras.models import Sequential\n",
    "from keras.layers import Dense, Dropout, Flatten\n",
    "from keras.layers import Conv2D, MaxPooling2D\n",
    "from keras import backend as K\n",
    "from keras.preprocessing.image import load_img\n",
    "from keras.preprocessing.image import img_to_array\n",
    "from keras.models import load_model\n",
    "import h5py as hp\n",
    "import numpy as np\n",
    "import matplotlib.pyplot as plt"
   ]
  },
  {
   "cell_type": "markdown",
   "metadata": {},
   "source": [
    "Setting the hyperparameters"
   ]
  },
  {
   "cell_type": "code",
   "execution_count": 4,
   "metadata": {},
   "outputs": [],
   "source": [
    "\n",
    "batch_size = 256\n",
    "num_classes = 10\n",
    "epochs = 20"
   ]
  },
  {
   "cell_type": "markdown",
   "metadata": {},
   "source": [
    "Set image dimensions"
   ]
  },
  {
   "cell_type": "code",
   "execution_count": 5,
   "metadata": {},
   "outputs": [],
   "source": [
    "img_rows, img_cols = 28, 28"
   ]
  },
  {
   "cell_type": "markdown",
   "metadata": {},
   "source": [
    "Loading the datasets"
   ]
  },
  {
   "cell_type": "code",
   "execution_count": 6,
   "metadata": {},
   "outputs": [],
   "source": [
    "(x_train, y_train), (x_test, y_test) = mnist.load_data()"
   ]
  },
  {
   "cell_type": "markdown",
   "metadata": {},
   "source": [
    "Viewing the images in the dataset"
   ]
  },
  {
   "cell_type": "code",
   "execution_count": 7,
   "metadata": {},
   "outputs": [
    {
     "data": {
      "image/png": "[encoded data removed]",
      "text/plain": [
       "<Figure size 432x288 with 4 Axes>"
      ]
     },
     "metadata": {
      "needs_background": "light"
     },
     "output_type": "display_data"
    },
    {
     "name": "stdout",
     "output_type": "stream",
     "text": [
      "(28, 28)\n"
     ]
    }
   ],
   "source": [
    "im, arr = plt.subplots(2,2)\n",
    "arr[0,0].imshow(x_train[0])\n",
    "arr[0,1].imshow(x_train[1])\n",
    "arr[1,0].imshow(x_train[2])\n",
    "arr[1,1].imshow(x_train[3])\n",
    "plt.show()\n",
    "print(x_train[0].shape)"
   ]
  },
  {
   "cell_type": "markdown",
   "metadata": {},
   "source": [
    "Reshaping our data and normalising the pixel values to range between 0 to 255"
   ]
  },
  {
   "cell_type": "code",
   "execution_count": 8,
   "metadata": {},
   "outputs": [],
   "source": [
    "if K.image_data_format() == 'channels_first':\n",
    "    x_train = x_train.reshape(x_train.shape[0], 1, img_rows, img_cols)\n",
    "    x_test = x_test.reshape(x_test.shape[0], 1, img_rows, img_cols)\n",
    "    input_shape = (1, img_rows, img_cols)\n",
    "else:\n",
    "    x_train = x_train.reshape(x_train.shape[0], img_rows, img_cols, 1)\n",
    "    x_test = x_test.reshape(x_test.shape[0], img_rows, img_cols, 1)\n",
    "    input_shape = (img_rows, img_cols, 1)\n",
    "x_train = x_train.astype('float32')\n",
    "x_test = x_test.astype('float32')\n",
    "x_train /= 255\n",
    "x_test /= 255"
   ]
  },
  {
   "cell_type": "markdown",
   "metadata": {},
   "source": [
    "These are number of images in our training and test dataset"
   ]
  },
  {
   "cell_type": "code",
   "execution_count": 9,
   "metadata": {},
   "outputs": [
    {
     "name": "stdout",
     "output_type": "stream",
     "text": [
      "x_train shape: (60000, 28, 28, 1)\n",
      "60000 train samples\n",
      "10000 test samples\n"
     ]
    }
   ],
   "source": [
    "print('x_train shape:', x_train.shape)\n",
    "print(x_train.shape[0], 'train samples')\n",
    "print(x_test.shape[0], 'test samples')"
   ]
  },
  {
   "cell_type": "markdown",
   "metadata": {},
   "source": [
    "Converting the classes to categorical data"
   ]
  },
  {
   "cell_type": "code",
   "execution_count": 10,
   "metadata": {},
   "outputs": [],
   "source": [
    "y_train = keras.utils.to_categorical(y_train, num_classes)\n",
    "y_test = keras.utils.to_categorical(y_test, num_classes)"
   ]
  },
  {
   "cell_type": "markdown",
   "metadata": {},
   "source": [
    "Calling the model and adding layers to the Neural Network, then configuring it for training (model.compile)"
   ]
  },
  {
   "cell_type": "code",
   "execution_count": 11,
   "metadata": {},
   "outputs": [
    {
     "name": "stderr",
     "output_type": "stream",
     "text": [
      "INFO:plaidml:Opening device \"metal_amd_radeon_pro_5300m.0\"\n"
     ]
    }
   ],
   "source": [
    "model = Sequential()\n",
    "model.add(Conv2D(32, kernel_size=(3, 3),\n",
    "                 activation='relu',\n",
    "                 input_shape=input_shape))\n",
    "model.add(Conv2D(64, (3, 3), activation='relu'))\n",
    "model.add(MaxPooling2D(pool_size=(2, 2)))\n",
    "model.add(Dropout(0.25))\n",
    "model.add(Flatten())\n",
    "model.add(Dense(128, activation='relu'))\n",
    "model.add(Dropout(0.5))\n",
    "model.add(Dense(num_classes, activation='softmax'))\n",
    "model.compile(loss=keras.losses.categorical_crossentropy,\n",
    "              optimizer=keras.optimizers.Adam(lr=0.001),\n",
    "              metrics=['accuracy'])"
   ]
  },
  {
   "cell_type": "markdown",
   "metadata": {},
   "source": [
    "How our model looks:"
   ]
  },
  {
   "cell_type": "code",
   "execution_count": 12,
   "metadata": {},
   "outputs": [
    {
     "name": "stdout",
     "output_type": "stream",
     "text": [
      "_________________________________________________________________\n",
      "Layer (type)                 Output Shape              Param #   \n",
      "=================================================================\n",
      "conv2d_1 (Conv2D)            (None, 26, 26, 32)        320       \n",
      "_________________________________________________________________\n",
      "conv2d_2 (Conv2D)            (None, 24, 24, 64)        18496     \n",
      "_________________________________________________________________\n",
      "max_pooling2d_1 (MaxPooling2 (None, 12, 12, 64)        0         \n",
      "_________________________________________________________________\n",
      "dropout_1 (Dropout)          (None, 12, 12, 64)        0         \n",
      "_________________________________________________________________\n",
      "flatten_1 (Flatten)          (None, 9216)              0         \n",
      "_________________________________________________________________\n",
      "dense_1 (Dense)              (None, 128)               1179776   \n",
      "_________________________________________________________________\n",
      "dropout_2 (Dropout)          (None, 128)               0         \n",
      "_________________________________________________________________\n",
      "dense_2 (Dense)              (None, 10)                1290      \n",
      "=================================================================\n",
      "Total params: 1,199,882\n",
      "Trainable params: 1,199,882\n",
      "Non-trainable params: 0\n",
      "_________________________________________________________________\n"
     ]
    }
   ],
   "source": [
    "model.summary()"
   ]
  },
  {
   "cell_type": "markdown",
   "metadata": {},
   "source": [
    "Training the model"
   ]
  },
  {
   "cell_type": "code",
   "execution_count": 13,
   "metadata": {},
   "outputs": [
    {
     "name": "stdout",
     "output_type": "stream",
     "text": [
      "Train on 60000 samples, validate on 10000 samples\n",
      "Epoch 1/20\n",
      "60000/60000 [==============================] - 27s 457us/step - loss: 0.3342 - acc: 0.8996 - val_loss: 0.0638 - val_acc: 0.9799\n",
      "Epoch 2/20\n",
      "60000/60000 [==============================] - 23s 375us/step - loss: 0.1017 - acc: 0.9702 - val_loss: 0.0475 - val_acc: 0.9843\n",
      "Epoch 3/20\n",
      "60000/60000 [==============================] - 23s 376us/step - loss: 0.0753 - acc: 0.9776 - val_loss: 0.0389 - val_acc: 0.9874\n",
      "Epoch 4/20\n",
      "60000/60000 [==============================] - 23s 378us/step - loss: 0.0607 - acc: 0.9814 - val_loss: 0.0339 - val_acc: 0.9887\n",
      "Epoch 5/20\n",
      "60000/60000 [==============================] - 23s 376us/step - loss: 0.0518 - acc: 0.9841 - val_loss: 0.0340 - val_acc: 0.9891\n",
      "Epoch 6/20\n",
      "60000/60000 [==============================] - 23s 377us/step - loss: 0.0444 - acc: 0.9860 - val_loss: 0.0336 - val_acc: 0.9889\n",
      "Epoch 7/20\n",
      "60000/60000 [==============================] - 23s 381us/step - loss: 0.0379 - acc: 0.9880 - val_loss: 0.0300 - val_acc: 0.9899\n",
      "Epoch 8/20\n",
      "60000/60000 [==============================] - 23s 382us/step - loss: 0.0337 - acc: 0.9893 - val_loss: 0.0278 - val_acc: 0.9900\n",
      "Epoch 9/20\n",
      "60000/60000 [==============================] - 23s 383us/step - loss: 0.0319 - acc: 0.9905 - val_loss: 0.0294 - val_acc: 0.9909\n",
      "Epoch 10/20\n",
      "60000/60000 [==============================] - 23s 383us/step - loss: 0.0308 - acc: 0.9898 - val_loss: 0.0309 - val_acc: 0.9898\n",
      "Epoch 11/20\n",
      "60000/60000 [==============================] - 23s 385us/step - loss: 0.0275 - acc: 0.9910 - val_loss: 0.0286 - val_acc: 0.9912\n",
      "Epoch 12/20\n",
      "60000/60000 [==============================] - 23s 384us/step - loss: 0.0243 - acc: 0.9922 - val_loss: 0.0312 - val_acc: 0.9907\n",
      "Epoch 13/20\n",
      "60000/60000 [==============================] - 23s 383us/step - loss: 0.0220 - acc: 0.9929 - val_loss: 0.0319 - val_acc: 0.9914\n",
      "Epoch 14/20\n",
      "60000/60000 [==============================] - 23s 380us/step - loss: 0.0222 - acc: 0.9924 - val_loss: 0.0348 - val_acc: 0.9893\n",
      "Epoch 15/20\n",
      "60000/60000 [==============================] - 23s 378us/step - loss: 0.0186 - acc: 0.9937 - val_loss: 0.0346 - val_acc: 0.9910\n",
      "Epoch 16/20\n",
      "60000/60000 [==============================] - 23s 378us/step - loss: 0.0202 - acc: 0.9934 - val_loss: 0.0333 - val_acc: 0.9909\n",
      "Epoch 17/20\n",
      "60000/60000 [==============================] - 23s 379us/step - loss: 0.0185 - acc: 0.9938 - val_loss: 0.0300 - val_acc: 0.9917\n",
      "Epoch 18/20\n",
      "60000/60000 [==============================] - 22s 375us/step - loss: 0.0183 - acc: 0.9940 - val_loss: 0.0282 - val_acc: 0.9912\n",
      "Epoch 19/20\n",
      "60000/60000 [==============================] - 22s 374us/step - loss: 0.0161 - acc: 0.9946 - val_loss: 0.0294 - val_acc: 0.9910\n",
      "Epoch 20/20\n",
      "60000/60000 [==============================] - 23s 376us/step - loss: 0.0176 - acc: 0.9942 - val_loss: 0.0338 - val_acc: 0.9905\n"
     ]
    }
   ],
   "source": [
    "history = model.fit(x_train, y_train,\n",
    "          batch_size=batch_size,\n",
    "          epochs=epochs,\n",
    "          verbose=1,\n",
    "          validation_data=(x_test, y_test),\n",
    "          shuffle=False)"
   ]
  },
  {
   "cell_type": "markdown",
   "metadata": {},
   "source": [
    "Save the model"
   ]
  },
  {
   "cell_type": "code",
   "execution_count": 122,
   "metadata": {},
   "outputs": [
    {
     "name": "stdout",
     "output_type": "stream",
     "text": [
      "The following are the weights of the model: \n",
      "[array([-0.18528037, -0.03450375, -0.09723603, -0.13521016,  0.01945516,\n",
      "       -0.26624718, -0.12445081,  0.2268593 , -0.19691941, -0.0931255 ],\n",
      "      dtype=float32), array([ 0.07898563, -0.11190557, -0.06129547,  0.16504237,  0.07354669,\n",
      "       -0.0075501 ,  0.03221561,  0.00198099,  0.15792885, -0.07870314],\n",
      "      dtype=float32), array([-0.29648685,  0.12756024,  0.13394564,  0.13024026,  0.16593547,\n",
      "        0.16079913, -0.24519484, -0.14683717,  0.00670113,  0.15952852],\n",
      "      dtype=float32), array([-0.29660738,  0.15314806, -0.1274161 , -0.17404008, -0.24270639,\n",
      "        0.19079085, -0.11655663, -0.17430648, -0.15590987,  0.14997955],\n",
      "      dtype=float32), array([ 0.1742696 ,  0.01768243, -0.15756142, -0.16768475, -0.01207889,\n",
      "        0.06729177, -0.03977962,  0.10898471,  0.06703407, -0.14882943],\n",
      "      dtype=float32), array([ 1.8532762e-01, -3.2689956e-01,  9.4490744e-02,  1.9568418e-01,\n",
      "       -2.0522244e-01,  1.6344650e-04,  1.8733881e-01, -1.7079832e-01,\n",
      "        2.8239926e-02,  1.7194833e-01], dtype=float32), array([ 0.14431705, -0.0547769 ,  0.16321586,  0.12651472, -0.02554972,\n",
      "       -0.244785  , -0.09234024,  0.08320113,  0.18162782,  0.18194355],\n",
      "      dtype=float32), array([ 0.0283007 , -0.03184476, -0.22761896, -0.18600053, -0.2624429 ,\n",
      "        0.02571591,  0.05307009, -0.28088102,  0.05172522, -0.00503994],\n",
      "      dtype=float32), array([ 0.18908007,  0.32107222, -0.16029444,  0.08492723, -0.36271048,\n",
      "       -0.13045935, -0.14444487, -0.13470884, -0.16605376,  0.0389258 ],\n",
      "      dtype=float32), array([-0.2840659 , -0.1583092 ,  0.13526893,  0.14073445, -0.20859724,\n",
      "        0.11772761, -0.26303178,  0.12306247,  0.00596595, -0.2174103 ],\n",
      "      dtype=float32), array([ 0.14025347, -0.15724008,  0.09360016, -0.2794941 , -0.08512177,\n",
      "       -0.16920656, -0.28244585,  0.06373926,  0.08174212, -0.08507803],\n",
      "      dtype=float32), array([-0.23315457,  0.09502339, -0.290472  ,  0.00711985,  0.1379477 ,\n",
      "       -0.2511092 , -0.20728287,  0.14747643, -0.17562824,  0.14148527],\n",
      "      dtype=float32), array([-0.27321538,  0.04602422,  0.10443288, -0.194861  ,  0.14871314,\n",
      "       -0.2949337 , -0.13122073, -0.17710012,  0.14663363,  0.12330279],\n",
      "      dtype=float32), array([ 0.13427335,  0.17859723, -0.21903941, -0.3736487 ,  0.2201518 ,\n",
      "       -0.21332887,  0.03981271, -0.22215404, -0.2572137 ,  0.05473877],\n",
      "      dtype=float32), array([-0.1572217 ,  0.20602544, -0.29704407, -0.20559622, -0.128167  ,\n",
      "        0.21436511,  0.20706993, -0.03395789,  0.07109927,  0.09387225],\n",
      "      dtype=float32), array([ 0.11977746, -0.25610712, -0.13914724,  0.11765957, -0.3161413 ,\n",
      "        0.13230462, -0.05727565,  0.12213577,  0.10746918,  0.13742861],\n",
      "      dtype=float32), array([ 0.13535625, -0.41792366,  0.08689182, -0.2063229 ,  0.16575414,\n",
      "        0.16045338, -0.04863451, -0.03244828, -0.35533124,  0.12779902],\n",
      "      dtype=float32), array([-0.13017623,  0.23359047, -0.02386667, -0.19525535,  0.05138342,\n",
      "        0.1005566 , -0.28730878,  0.22271599, -0.19985263, -0.03887114],\n",
      "      dtype=float32), array([-0.17233245, -0.14551495, -0.28956053, -0.21913171,  0.1532654 ,\n",
      "        0.1489431 ,  0.17523293, -0.20693144,  0.07625102,  0.15111403],\n",
      "      dtype=float32), array([-0.06990568, -0.24038003,  0.1302431 , -0.12801673, -0.1480262 ,\n",
      "       -0.13322031, -0.36099946,  0.14593333, -0.23278731,  0.1261162 ],\n",
      "      dtype=float32), array([-0.13927136,  0.16507193,  0.11583634,  0.16532402, -0.44158995,\n",
      "        0.17394504, -0.09027693, -0.10479764,  0.1412116 , -0.15682709],\n",
      "      dtype=float32), array([-0.24741241,  0.12865105,  0.0355369 , -0.35449708,  0.18399249,\n",
      "       -0.09707723,  0.2487213 , -0.16042541, -0.20233414, -0.06332757],\n",
      "      dtype=float32), array([-0.1765043 ,  0.18386184, -0.0045834 ,  0.03488534,  0.03799141,\n",
      "       -0.09938177,  0.05010725,  0.13525784, -0.03928336, -0.05495894],\n",
      "      dtype=float32), array([-0.3084132 ,  0.07011317, -0.27608442, -0.24415062,  0.02438281,\n",
      "        0.08991477,  0.0884709 ,  0.0162523 ,  0.09014072, -0.15722527],\n",
      "      dtype=float32), array([ 0.06782565, -0.17489523, -0.18874767,  0.15459448,  0.14557058,\n",
      "       -0.11702253, -0.09092084, -0.19621663,  0.1964256 , -0.09363995],\n",
      "      dtype=float32), array([-0.366864  , -0.25550565, -0.15496285,  0.08088193,  0.0958929 ,\n",
      "        0.08219278, -0.20573197,  0.09069023,  0.07953669,  0.10534417],\n",
      "      dtype=float32), array([-5.4447431e-02,  8.4363520e-02, -2.4223825e-01,  2.1387315e-01,\n",
      "       -2.9336754e-05, -1.3529325e-01, -2.9179078e-01,  5.0528582e-02,\n",
      "       -3.1905201e-01,  2.2479868e-01], dtype=float32), array([ 0.00154957, -0.2583776 , -0.17064875,  0.00677068, -0.14784019,\n",
      "        0.12274971, -0.1689452 ,  0.12247502, -0.21330507,  0.11431042],\n",
      "      dtype=float32), array([ 0.23943159,  0.17690015, -0.20232014,  0.06214945, -0.12836853,\n",
      "       -0.1815222 ,  0.2490834 , -0.17177661, -0.03203507, -0.18972152],\n",
      "      dtype=float32), array([ 0.0566313 ,  0.07551131,  0.10637586,  0.0072353 , -0.00307375,\n",
      "        0.14571896,  0.01777816,  0.09731739, -0.0024734 ,  0.0698329 ],\n",
      "      dtype=float32), array([-0.2318194 , -0.34700903, -0.21062317,  0.1582768 ,  0.0399941 ,\n",
      "        0.18444793,  0.13138567, -0.26219434, -0.07355119,  0.13996653],\n",
      "      dtype=float32), array([ 0.16917267, -0.1504964 , -0.06393858,  0.16374715, -0.08223981,\n",
      "       -0.03493882, -0.11196046,  0.10466273,  0.10683295,  0.02901569],\n",
      "      dtype=float32), array([ 0.11451783, -0.03314371,  0.11778962,  0.13892998, -0.2373291 ,\n",
      "        0.12340754,  0.15439385,  0.01339126,  0.15049028, -0.30341482],\n",
      "      dtype=float32), array([-0.17706087, -0.22712591,  0.08729705,  0.05300114,  0.06882942,\n",
      "       -0.25459072, -0.13074674,  0.0806421 , -0.21786155, -0.14226966],\n",
      "      dtype=float32), array([ 0.21897504, -0.08083355,  0.13415866, -0.07775271, -0.31206253,\n",
      "       -0.2569696 , -0.2523216 ,  0.08564706, -0.14163704, -0.33397257],\n",
      "      dtype=float32), array([ 0.00635594,  0.05418476, -0.29489017, -0.34907898,  0.1776962 ,\n",
      "       -0.0724552 ,  0.14503233, -0.28967276, -0.20419544,  0.1681288 ],\n",
      "      dtype=float32), array([ 0.19082299, -0.11753476, -0.2548552 , -0.18838996, -0.10149659,\n",
      "       -0.13475713, -0.15932253,  0.18711747, -0.12315734,  0.19351318],\n",
      "      dtype=float32), array([-0.13978338,  0.09612229,  0.12633187,  0.11295751, -0.15893331,\n",
      "       -0.26043826, -0.10010007,  0.12388073,  0.11143608, -0.16750677],\n",
      "      dtype=float32), array([ 0.27365562, -0.11026927, -0.04109096, -0.17903866,  0.14877294,\n",
      "        0.23610258, -0.149544  , -0.12544128, -0.07664418,  0.24261026],\n",
      "      dtype=float32), array([-0.31794608,  0.13141122,  0.12755677, -0.23112513, -0.03031467,\n",
      "       -0.05971552,  0.09497979, -0.1309294 , -0.26803997, -0.2306213 ],\n",
      "      dtype=float32), array([ 0.15831096, -0.07594814, -0.0165381 , -0.12024505, -0.25044098,\n",
      "        0.14084044, -0.02629619, -0.14312243,  0.18107657,  0.19264689],\n",
      "      dtype=float32), array([ 0.11555821, -0.22120237,  0.09578315, -0.24907187,  0.03801894,\n",
      "       -0.0679941 ,  0.07977688, -0.00612192,  0.04326017, -0.23623216],\n",
      "      dtype=float32), array([-0.09111312,  0.12640093, -0.3121109 , -0.21122643, -0.08912995,\n",
      "       -0.16025332, -0.19862548, -0.05675276,  0.16232972,  0.1692502 ],\n",
      "      dtype=float32), array([-0.17708664,  0.16795002, -0.20291306, -0.2953586 ,  0.20699918,\n",
      "       -0.07827166,  0.02487786, -0.29147145, -0.11923358,  0.18023506],\n",
      "      dtype=float32), array([-0.02991391,  0.14451805,  0.02167675, -0.02085634, -0.15492935,\n",
      "       -0.10215328,  0.17438938, -0.0380933 , -0.04187417, -0.14708804],\n",
      "      dtype=float32), array([-0.19035484, -0.11354517,  0.23981984, -0.11364418,  0.0945834 ,\n",
      "       -0.13000084,  0.07424133,  0.23804693, -0.07130502, -0.06034121],\n",
      "      dtype=float32), array([-0.21904172, -0.06364998,  0.14088579,  0.13285616, -0.08032338,\n",
      "       -0.30775106, -0.3169867 ,  0.15107423,  0.03098014, -0.22778268],\n",
      "      dtype=float32), array([-0.179601  ,  0.13438652, -0.01470847, -0.29430145,  0.12922934,\n",
      "        0.18690811, -0.00535648, -0.14557894, -0.1658605 , -0.12470705],\n",
      "      dtype=float32), array([-0.21747527,  0.22728722, -0.15854543, -0.09699418, -0.04078328,\n",
      "       -0.18435654, -0.23503679,  0.25563195, -0.20661329, -0.16615869],\n",
      "      dtype=float32), array([-0.18264489, -0.23920025, -0.08228204,  0.15664974, -0.18617193,\n",
      "       -0.11259503,  0.12096343, -0.34210786,  0.12290715, -0.19624329],\n",
      "      dtype=float32), array([-0.22099718,  0.07201867, -0.27369902, -0.22444166,  0.12334277,\n",
      "       -0.10279162, -0.29284355, -0.22143275,  0.10602972,  0.10481197],\n",
      "      dtype=float32), array([ 0.25983092, -0.12650053, -0.2501912 , -0.20595814, -0.21900177,\n",
      "        0.19117676,  0.19400224, -0.07659744, -0.1618625 , -0.15596433],\n",
      "      dtype=float32), array([-0.19362709,  0.21749498,  0.01025445,  0.14906548, -0.23185   ,\n",
      "        0.16107859, -0.27747905, -0.15479459, -0.13445447,  0.13006231],\n",
      "      dtype=float32), array([-0.08282489,  0.2554387 , -0.19895089,  0.19975562,  0.10153124,\n",
      "        0.1833885 , -0.33519304, -0.08962723, -0.21463014,  0.21573322],\n",
      "      dtype=float32), array([ 0.15924336, -0.2648668 ,  0.1749423 ,  0.09680803,  0.11972995,\n",
      "       -0.23441066, -0.08322898, -0.20267485,  0.13885905,  0.14626132],\n",
      "      dtype=float32), array([-0.19450198,  0.24441327,  0.08875415, -0.00928237, -0.14486185,\n",
      "        0.18302226, -0.22971825, -0.11334628,  0.01855952,  0.2538353 ],\n",
      "      dtype=float32), array([-0.13377267,  0.13825563, -0.2701422 ,  0.19356793,  0.12633117,\n",
      "        0.15706278,  0.1483348 ,  0.06467654, -0.21472482, -0.0609873 ],\n",
      "      dtype=float32), array([-0.3278025 ,  0.07447309, -0.24079426,  0.13259979, -0.17538112,\n",
      "       -0.09649227, -0.24009143,  0.24330388, -0.1310173 ,  0.24196461],\n",
      "      dtype=float32), array([ 0.10665332,  0.07320856, -0.10495349,  0.09585673, -0.22496788,\n",
      "        0.12513922,  0.13851398, -0.28374887, -0.20209205, -0.21651873],\n",
      "      dtype=float32), array([ 0.13694087, -0.19024032,  0.05119669, -0.16373771,  0.10475605,\n",
      "       -0.19389302,  0.16877289, -0.34818798,  0.18099469, -0.09064747],\n",
      "      dtype=float32), array([ 0.03076142,  0.34778675, -0.18242969, -0.25393626, -0.16425286,\n",
      "       -0.15125072,  0.0843166 ,  0.06588652, -0.2582311 , -0.02500275],\n",
      "      dtype=float32), array([ 0.17166698,  0.0178963 ,  0.17835721,  0.0802847 , -0.00058865,\n",
      "        0.09008075, -0.03147003, -0.07879767, -0.32200372, -0.02210864],\n",
      "      dtype=float32), array([-0.4004019 ,  0.12564221, -0.31406173,  0.00165759,  0.15905425,\n",
      "       -0.29477614, -0.28313112,  0.1763912 , -0.10643067,  0.14692934],\n",
      "      dtype=float32), array([ 0.04917309, -0.24857974, -0.03133898,  0.18221581,  0.17992307,\n",
      "        0.16967955, -0.0883813 , -0.04715335,  0.13220608, -0.20536888],\n",
      "      dtype=float32), array([-0.17703135,  0.0437403 ,  0.05531826,  0.04619689, -0.19817674,\n",
      "       -0.41227406, -0.13669844,  0.02066401,  0.01045989, -0.23323488],\n",
      "      dtype=float32), array([-0.15945481, -0.1960371 ,  0.08870024, -0.29725218,  0.22543658,\n",
      "       -0.10031645, -0.18772034, -0.21832229, -0.16251788,  0.01474302],\n",
      "      dtype=float32), array([-0.20228867, -0.2235193 ,  0.03546151,  0.28702015, -0.27294558,\n",
      "       -0.16591442, -0.2876251 , -0.09223023, -0.2491556 ,  0.01396699],\n",
      "      dtype=float32), array([-0.07782635,  0.15006603,  0.17423598, -0.18181013, -0.20608683,\n",
      "       -0.10875788, -0.12584572, -0.06284146,  0.17028256,  0.02211527],\n",
      "      dtype=float32), array([-0.11735251, -0.22748691,  0.11676382, -0.11322589, -0.21024454,\n",
      "        0.09118663,  0.15400527, -0.24277958,  0.0495091 , -0.18623264],\n",
      "      dtype=float32), array([-0.0134183 , -0.17923918,  0.11416266, -0.09231123, -0.0933024 ,\n",
      "        0.14018321,  0.05094778,  0.182177  , -0.09524544,  0.01079865],\n",
      "      dtype=float32), array([-0.14636467, -0.21850269, -0.19745633,  0.04159198, -0.18269947,\n",
      "       -0.07626531, -0.18648182, -0.22616906,  0.16319412,  0.11730371],\n",
      "      dtype=float32), array([-0.03075105,  0.16620363,  0.2167865 , -0.17728034, -0.12418779,\n",
      "       -0.25618544,  0.19276957, -0.18207145, -0.10691105, -0.28708336],\n",
      "      dtype=float32), array([-0.12894788, -0.19027697, -0.12109181, -0.1069678 , -0.02296862,\n",
      "       -0.01960423,  0.03042141, -0.09418362, -0.08015735, -0.25695834],\n",
      "      dtype=float32), array([-0.18233201,  0.1908593 , -0.01599331,  0.10399964,  0.08176605,\n",
      "        0.07486839, -0.00336226, -0.15196423, -0.1368795 ,  0.14401706],\n",
      "      dtype=float32), array([ 0.09489337, -0.33764738,  0.0510985 , -0.23327594,  0.09876244,\n",
      "       -0.20211929,  0.03482803, -0.15529115, -0.20438427,  0.1298532 ],\n",
      "      dtype=float32), array([-0.15481997, -0.03342356,  0.21066548, -0.02639346,  0.17601094,\n",
      "       -0.00560203, -0.13525315, -0.05675979, -0.26642132, -0.32531965],\n",
      "      dtype=float32), array([-0.13287108, -0.07533979,  0.05460371, -0.14786811, -0.20546257,\n",
      "        0.21184987, -0.2260281 ,  0.13452946, -0.21341547, -0.05394442],\n",
      "      dtype=float32), array([-0.09192543, -0.17605893,  0.16176146,  0.10902488, -0.07396134,\n",
      "       -0.13398354,  0.1947791 , -0.17964725,  0.18281336,  0.12037678],\n",
      "      dtype=float32), array([-0.3325116 , -0.0452495 ,  0.13977642,  0.06481853, -0.16056673,\n",
      "        0.10360987,  0.09512222, -0.26829913,  0.10960688, -0.10561979],\n",
      "      dtype=float32), array([ 0.00524062,  0.08889976, -0.2251334 , -0.08913108, -0.20201112,\n",
      "        0.22696191,  0.2007165 ,  0.19936554, -0.20793216,  0.15967916],\n",
      "      dtype=float32), array([-0.01337109,  0.16832371, -0.16463803,  0.17368755, -0.19034643,\n",
      "        0.21101993, -0.25470102,  0.22936332, -0.03435154, -0.08843718],\n",
      "      dtype=float32), array([-0.21976724, -0.02789356,  0.13133721, -0.15722492,  0.17738138,\n",
      "       -0.28528678,  0.18473907,  0.18057343,  0.09508605,  0.13104047],\n",
      "      dtype=float32), array([-0.06565707,  0.12142321,  0.19834487, -0.05397769,  0.20934257,\n",
      "        0.23165345, -0.24359831, -0.16634037, -0.13812275, -0.11632583],\n",
      "      dtype=float32), array([ 0.06225242,  0.14184174,  0.06141697, -0.12126291, -0.17651659,\n",
      "        0.07779099,  0.03046307, -0.16417207,  0.12478144, -0.12511827],\n",
      "      dtype=float32), array([-0.10916092, -0.10267266, -0.15799902,  0.176673  ,  0.14653595,\n",
      "       -0.06529851, -0.20248787,  0.19387694, -0.16658989, -0.14353281],\n",
      "      dtype=float32), array([ 0.22794452,  0.02258986,  0.04644071, -0.01007764, -0.20550635,\n",
      "       -0.22045532,  0.16062342, -0.16406621, -0.2081033 , -0.21924594],\n",
      "      dtype=float32), array([-0.3811097 ,  0.08011362, -0.11316119,  0.23298551, -0.08516392,\n",
      "       -0.1049092 , -0.14109358,  0.18701196, -0.25922877, -0.26737747],\n",
      "      dtype=float32), array([ 0.1713752 ,  0.1463134 ,  0.06248617, -0.27607176,  0.15725602,\n",
      "       -0.16999167,  0.11595462, -0.10670652, -0.08959611, -0.04623074],\n",
      "      dtype=float32), array([-0.18954007,  0.15546654, -0.08436444, -0.26499453,  0.17147881,\n",
      "        0.11874083,  0.15705761, -0.22483112,  0.16165331, -0.01575575],\n",
      "      dtype=float32), array([-0.1025921 ,  0.12494911, -0.18972576,  0.23398755, -0.16944227,\n",
      "       -0.00800726, -0.16296835,  0.03999859, -0.01512101, -0.26576403],\n",
      "      dtype=float32), array([ 0.08155351, -0.24451363, -0.21022065,  0.04946513, -0.1736217 ,\n",
      "        0.07697175,  0.11123668, -0.25432274,  0.10489205, -0.19800979],\n",
      "      dtype=float32), array([ 0.01334343, -0.0962829 , -0.19452876, -0.19019257,  0.10866643,\n",
      "        0.0546378 , -0.1494884 ,  0.1322077 ,  0.14792415, -0.17780685],\n",
      "      dtype=float32), array([ 0.18459994,  0.19269739, -0.22996911,  0.15739775, -0.34663993,\n",
      "        0.06901646, -0.09029606,  0.19991161, -0.16907912, -0.23131156],\n",
      "      dtype=float32), array([-0.19809853,  0.06809924, -0.26476356,  0.09030919,  0.02081301,\n",
      "        0.0355    ,  0.06124666,  0.08368804,  0.05866347, -0.26058027],\n",
      "      dtype=float32), array([-0.15222573, -0.06841777, -0.08191161,  0.02251178,  0.14426419,\n",
      "        0.09817737, -0.07829535,  0.15941226,  0.17507544,  0.17156926],\n",
      "      dtype=float32), array([ 0.0206124 ,  0.04385655,  0.07943171, -0.127012  , -0.12810223,\n",
      "        0.16179074,  0.05730138, -0.1206077 ,  0.22533041,  0.07025112],\n",
      "      dtype=float32), array([ 0.06059977, -0.1517282 , -0.23113999,  0.03856932, -0.18179405,\n",
      "       -0.20647958, -0.2502051 ,  0.12271862,  0.08976957,  0.14879356],\n",
      "      dtype=float32), array([-0.30426443, -0.16304217, -0.30688003,  0.17728777,  0.1615592 ,\n",
      "        0.18009833, -0.01965351, -0.24084266,  0.05243596,  0.2053721 ],\n",
      "      dtype=float32), array([ 0.12487309, -0.27296337, -0.3412043 , -0.08397785,  0.07743684,\n",
      "        0.11021791,  0.06828364,  0.16086157, -0.00484789, -0.18625462],\n",
      "      dtype=float32), array([ 0.15008627,  0.04772084, -0.32032377, -0.20310177,  0.16058268,\n",
      "        0.13660897,  0.14555822,  0.20778276, -0.14154851, -0.06063714],\n",
      "      dtype=float32), array([ 0.12713622, -0.26065317, -0.06355152, -0.13575125, -0.30225804,\n",
      "        0.09139538, -0.22377579,  0.01730525,  0.04465977, -0.12257077],\n",
      "      dtype=float32), array([ 0.14732352, -0.2616217 , -0.08540162,  0.08391127,  0.15766937,\n",
      "       -0.17840797, -0.09582243, -0.02551535,  0.15296382,  0.14906093],\n",
      "      dtype=float32), array([ 0.1734997 ,  0.18721364,  0.17211719, -0.0328905 , -0.01041841,\n",
      "       -0.23181026, -0.27528775,  0.16101874,  0.06086074,  0.17786603],\n",
      "      dtype=float32), array([-0.11833096,  0.18248545,  0.08734151, -0.00250869, -0.26437524,\n",
      "        0.04282034,  0.20419218, -0.13675572, -0.13663337, -0.23134255],\n",
      "      dtype=float32), array([-0.30229   ,  0.17051014,  0.01628736,  0.22053632, -0.02633629,\n",
      "       -0.11026309, -0.20488895,  0.2369512 , -0.3630666 , -0.23014028],\n",
      "      dtype=float32), array([ 0.03422721, -0.12630364,  0.21201248, -0.11459069, -0.13601969,\n",
      "       -0.09010794, -0.24407819,  0.2209649 , -0.10141361,  0.12883769],\n",
      "      dtype=float32), array([ 0.12007304,  0.15209606,  0.09274296, -0.20641005,  0.07209737,\n",
      "       -0.28111923,  0.11487134, -0.3171769 , -0.05983734,  0.02576049],\n",
      "      dtype=float32), array([ 0.06682847,  0.08492912,  0.10324591,  0.04775397, -0.2991792 ,\n",
      "        0.0839273 ,  0.11517449, -0.24970107,  0.12023875, -0.2681685 ],\n",
      "      dtype=float32), array([-0.24739464,  0.23050064,  0.18925811, -0.06862638,  0.06348924,\n",
      "       -0.09868994, -0.21615897,  0.20788309, -0.33478874, -0.20567168],\n",
      "      dtype=float32), array([ 0.03848203,  0.22179936, -0.09852595, -0.20286264,  0.12878764,\n",
      "        0.09184964, -0.04664576,  0.15618798,  0.20396015, -0.1342758 ],\n",
      "      dtype=float32), array([ 0.12854603,  0.05439375, -0.27887776,  0.15946819,  0.11522958,\n",
      "        0.16679148,  0.17933936, -0.31832346,  0.18022196,  0.17524387],\n",
      "      dtype=float32), array([-0.29953623,  0.11528605,  0.11721589, -0.2202808 ,  0.19618417,\n",
      "        0.14741376, -0.21816456,  0.17902474,  0.14166082,  0.091171  ],\n",
      "      dtype=float32), array([ 0.12244107, -0.2574553 ,  0.13360907, -0.19598466,  0.05843621,\n",
      "        0.1389549 ,  0.14867416,  0.14828023,  0.05746244, -0.1434213 ],\n",
      "      dtype=float32), array([ 0.13198067, -0.09938509, -0.21163085, -0.2595423 , -0.30028638,\n",
      "        0.08781882,  0.02609714,  0.04103442, -0.3358578 , -0.10076512],\n",
      "      dtype=float32), array([-0.11707851, -0.02599744, -0.05399249,  0.23930116, -0.27220112,\n",
      "        0.22474696, -0.01614496, -0.17858376, -0.20358168,  0.20789665],\n",
      "      dtype=float32), array([ 0.13739426,  0.06941938,  0.00161771,  0.22430828, -0.28526083,\n",
      "       -0.04727481, -0.25922444, -0.2634872 , -0.14423631, -0.03653365],\n",
      "      dtype=float32), array([ 0.12176967, -0.15901268, -0.13119303, -0.14277792, -0.14064512,\n",
      "        0.13491963, -0.17259718,  0.0197058 ,  0.13370045, -0.16871963],\n",
      "      dtype=float32), array([-0.09237169,  0.10287414,  0.1768053 ,  0.21672302, -0.11595021,\n",
      "        0.17040548, -0.20523775,  0.16762963, -0.01040475, -0.15698658],\n",
      "      dtype=float32), array([ 0.13635276,  0.05397542,  0.08536418, -0.31277785,  0.12631834,\n",
      "       -0.19845504,  0.09926511, -0.2514385 , -0.2950356 , -0.08489642],\n",
      "      dtype=float32), array([ 0.01887985, -0.23597002,  0.04756989,  0.02590316,  0.06987774,\n",
      "       -0.19695525, -0.19825439,  0.06897505, -0.253368  ,  0.06097539],\n",
      "      dtype=float32), array([-0.08451568,  0.15696739,  0.15897104,  0.1228056 , -0.26214036,\n",
      "       -0.34247732, -0.21735491, -0.04945228, -0.29070145, -0.2416833 ],\n",
      "      dtype=float32), array([ 0.19450212, -0.0142046 , -0.04576001,  0.00487503, -0.32159317,\n",
      "       -0.11040618, -0.10345707, -0.36324298,  0.1541059 ,  0.00317932],\n",
      "      dtype=float32), array([-0.17167833,  0.21926406, -0.00287141, -0.1344625 ,  0.22372223,\n",
      "        0.19621171, -0.12313315, -0.08953458,  0.19426316, -0.10303432],\n",
      "      dtype=float32), array([ 0.05375264,  0.26735875, -0.30377135, -0.32095835, -0.31914172,\n",
      "       -0.1841778 , -0.19901921,  0.14805512, -0.0477512 , -0.1864733 ],\n",
      "      dtype=float32), array([-0.36390758, -0.09799027,  0.05447662,  0.04320874, -0.3169814 ,\n",
      "        0.04474311, -0.26592305, -0.15248281,  0.07035059,  0.06314022],\n",
      "      dtype=float32), array([-0.18443929,  0.08238708,  0.10450148, -0.24340011,  0.12428599,\n",
      "       -0.3287411 , -0.21651407,  0.09603377,  0.10249417,  0.10669011],\n",
      "      dtype=float32), array([ 0.16335247, -0.0887517 ,  0.22881338,  0.20822945,  0.04125432,\n",
      "       -0.29889268, -0.06580187, -0.10459322,  0.03280659, -0.21340385],\n",
      "      dtype=float32), array([-0.02272848,  0.20178623,  0.10565126, -0.02112308,  0.2164453 ,\n",
      "       -0.35242948, -0.01219998, -0.04382456, -0.18289436, -0.2518583 ],\n",
      "      dtype=float32)]\n"
     ]
    }
   ],
   "source": [
    "model.save('/Users/shreyasm/Downloads/Python_progs/KerasOpenCL/trained_model.h5')\n",
    "\n",
    "trained_model = hp.File('/Users/shreyasm/Downloads/Python_progs/KerasOpenCL/trained_model.h5')\n",
    "print(\"The following are the weights of the model: \")\n",
    "trained_model_weights = list(trained_model['model_weights']['dense_2']['dense_2']['kernel'])\n",
    "print(trained_model_weights)"
   ]
  },
  {
   "cell_type": "markdown",
   "metadata": {},
   "source": [
    "Evaluating the performance of the model using accuracy metrics and plotting the loss over iterations"
   ]
  },
  {
   "cell_type": "code",
   "execution_count": 124,
   "metadata": {},
   "outputs": [
    {
     "name": "stdout",
     "output_type": "stream",
     "text": [
      "Test loss: 0.03380306740999222\n",
      "Test accuracy: 0.9905\n"
     ]
    },
    {
     "data": {
      "image/png": "[encoded data removed]",
      "text/plain": [
       "<Figure size 432x288 with 1 Axes>"
      ]
     },
     "metadata": {
      "needs_background": "light"
     },
     "output_type": "display_data"
    }
   ],
   "source": [
    "score = model.evaluate(x_test, y_test, verbose=0)\n",
    "print('Test loss:', score[0])\n",
    "print('Test accuracy:', score[1])\n",
    "plt.plot(history.history['loss'])\n",
    "plt.plot(history.history['val_loss'])\n",
    "plt.title('Model loss')\n",
    "plt.xlabel('epoch')\n",
    "plt.ylabel('loss')\n",
    "plt.legend(['train', 'val'], loc='upper right')\n",
    "plt.show()"
   ]
  },
  {
   "cell_type": "markdown",
   "metadata": {},
   "source": [
    "The image to be predicted is"
   ]
  },
  {
   "cell_type": "code",
   "execution_count": 128,
   "metadata": {},
   "outputs": [
    {
     "name": "stdout",
     "output_type": "stream",
     "text": [
      "Image of the digit: \n"
     ]
    },
    {
     "data": {
      "image/png": "[encoded data removed]",
      "text/plain": [
       "<Figure size 432x288 with 1 Axes>"
      ]
     },
     "metadata": {
      "needs_background": "light"
     },
     "output_type": "display_data"
    }
   ],
   "source": [
    "def load_image(filename):\n",
    "    img = load_img(filename, color_mode='grayscale', target_size=(28, 28))\n",
    "    img = img_to_array(img)\n",
    "    img = img.reshape(1, 28, 28, 1)\n",
    "    img = img.astype('float32')\n",
    "    img = img / 255\n",
    "    return img\n",
    "\n",
    "def run_example(filename):\n",
    "    predict_val = model.predict(img)\n",
    "    digit = np.argmax(predict_val)\n",
    "    print(\"The predicted digit from the image is:\", digit)\n",
    "\n",
    "#replace 'three.jpeg with the path to your own image\n",
    "img = load_image('MNIST_sample_image.png')\n",
    "print(\"Image of the digit: \")\n",
    "plt.imshow(img.reshape(28,28))\n",
    "plt.show()\n",
    "\n"
   ]
  },
  {
   "cell_type": "markdown",
   "metadata": {},
   "source": [
    "Predicting the displayed digit"
   ]
  },
  {
   "cell_type": "code",
   "execution_count": 129,
   "metadata": {},
   "outputs": [
    {
     "name": "stdout",
     "output_type": "stream",
     "text": [
      "The predicted digit from the image is: 7\n"
     ]
    }
   ],
   "source": [
    "run_example(img)"
   ]
  }
 ],
 "metadata": {
  "interpreter": {
   "hash": "aee8b7b246df8f9039afb4144a1f6fd8d2ca17a180786b69acc140d282b71a49"
  },
  "kernelspec": {
   "display_name": "Python 3.9.5 64-bit",
   "language": "python",
   "name": "python3"
  },
  "language_info": {
   "codemirror_mode": {
    "name": "ipython",
    "version": 3
   },
   "file_extension": ".py",
   "mimetype": "text/x-python",
   "name": "python",
   "nbconvert_exporter": "python",
   "pygments_lexer": "ipython3",
   "version": "3.9.7"
  },
  "orig_nbformat": 4
 },
 "nbformat": 4,
 "nbformat_minor": 2
}
